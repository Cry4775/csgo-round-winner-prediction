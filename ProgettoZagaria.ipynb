{
 "nbformat": 4,
 "nbformat_minor": 0,
 "metadata": {
  "colab": {
   "provenance": [],
   "authorship_tag": "ABX9TyN/kuWtZFw93oibR1IgeYzG"
  },
  "kernelspec": {
   "name": "python3",
   "display_name": "Python 3 (ipykernel)",
   "language": "python"
  },
  "language_info": {
   "name": "python"
  }
 },
 "cells": [
  {
   "cell_type": "markdown",
   "source": [
    "Importiamo le librerie"
   ],
   "metadata": {
    "id": "pMr6WmUcjsdD"
   }
  },
  {
   "cell_type": "code",
   "metadata": {
    "id": "AkIoepKUY_YF",
    "executionInfo": {
     "status": "ok",
     "timestamp": 1732808842103,
     "user_tz": -60,
     "elapsed": 839,
     "user": {
      "displayName": "Pierdamiano Zagaria",
      "userId": "00596056008830828530"
     }
    },
    "ExecuteTime": {
     "end_time": "2024-11-29T15:04:39.141777Z",
     "start_time": "2024-11-29T15:04:38.814340Z"
    }
   },
   "source": [
    "import pandas as pd"
   ],
   "outputs": [],
   "execution_count": 1
  },
  {
   "cell_type": "code",
   "source": "DATASET_PATH = 'datasets/csgo_round_snapshots.csv'",
   "metadata": {
    "colab": {
     "base_uri": "https://localhost:8080/"
    },
    "id": "aRdiiJlPcEiw",
    "executionInfo": {
     "status": "ok",
     "timestamp": 1732810290270,
     "user_tz": -60,
     "elapsed": 2340,
     "user": {
      "displayName": "Pierdamiano Zagaria",
      "userId": "00596056008830828530"
     }
    },
    "outputId": "b8851cea-dbfb-4e7a-c4be-c59177a05145",
    "ExecuteTime": {
     "end_time": "2024-11-29T15:04:39.156274Z",
     "start_time": "2024-11-29T15:04:39.152792Z"
    }
   },
   "outputs": [],
   "execution_count": 2
  },
  {
   "cell_type": "code",
   "source": "df = pd.read_csv(DATASET_PATH)",
   "metadata": {
    "id": "BP1d90hqc3fJ",
    "executionInfo": {
     "status": "ok",
     "timestamp": 1732808846210,
     "user_tz": -60,
     "elapsed": 2268,
     "user": {
      "displayName": "Pierdamiano Zagaria",
      "userId": "00596056008830828530"
     }
    },
    "ExecuteTime": {
     "end_time": "2024-11-29T15:04:39.998241Z",
     "start_time": "2024-11-29T15:04:39.261724Z"
    }
   },
   "outputs": [],
   "execution_count": 3
  }
 ]
}
